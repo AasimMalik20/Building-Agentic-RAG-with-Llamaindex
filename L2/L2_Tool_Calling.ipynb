{
 "cells": [
  {
   "cell_type": "markdown",
   "id": "46f32ff1",
   "metadata": {},
   "source": [
    "# Lesson 2: Tool Calling"
   ]
  },
  {
   "cell_type": "markdown",
   "id": "fb345ad0",
   "metadata": {},
   "source": [
    "## Setup"
   ]
  },
  {
   "cell_type": "code",
   "execution_count": 1,
   "id": "c5bbf530-3f05-434c-a70f-ac2cc4b8f7aa",
   "metadata": {
    "height": 47,
    "tags": []
   },
   "outputs": [],
   "source": [
    "from helper import get_openai_api_key\n",
    "OPENAI_API_KEY = get_openai_api_key()"
   ]
  },
  {
   "cell_type": "code",
   "execution_count": 2,
   "id": "d4c06c95-e8b2-4574-b14d-685876aa1c47",
   "metadata": {
    "height": 47,
    "tags": []
   },
   "outputs": [],
   "source": [
    "import nest_asyncio\n",
    "nest_asyncio.apply()"
   ]
  },
  {
   "cell_type": "markdown",
   "id": "2e53c064",
   "metadata": {},
   "source": [
    "## 1. Define a Simple Tool"
   ]
  },
  {
   "cell_type": "code",
   "execution_count": 3,
   "id": "071b717a-93cc-4332-b357-59a693359563",
   "metadata": {
    "height": 234,
    "tags": []
   },
   "outputs": [],
   "source": [
    "from llama_index.core.tools import FunctionTool\n",
    "\n",
    "def add(x: int, y: int) -> int:\n",
    "    \"\"\"Adds two integers together.\"\"\"\n",
    "    return x + y\n",
    "\n",
    "def mystery(x: int, y: int) -> int: \n",
    "    \"\"\"Mystery function that operates on top of two numbers.\"\"\"\n",
    "    return (x + y) * (x + y)\n",
    "\n",
    "\n",
    "add_tool = FunctionTool.from_defaults(fn=add)\n",
    "mystery_tool = FunctionTool.from_defaults(fn=mystery)"
   ]
  },
  {
   "cell_type": "code",
   "execution_count": 4,
   "id": "d4e62118-992b-4629-9022-be8c628209c1",
   "metadata": {
    "height": 166,
    "tags": []
   },
   "outputs": [
    {
     "name": "stdout",
     "output_type": "stream",
     "text": [
      "=== Calling Function ===\n",
      "Calling function: mystery with args: {\"x\": 2, \"y\": 9}\n",
      "=== Function Output ===\n",
      "121\n",
      "121\n"
     ]
    }
   ],
   "source": [
    "from llama_index.llms.openai import OpenAI\n",
    "\n",
    "llm = OpenAI(model=\"gpt-3.5-turbo\")\n",
    "response = llm.predict_and_call(\n",
    "    [add_tool, mystery_tool], \n",
    "    \"Tell me the output of the mystery function on 2 and 9\", \n",
    "    verbose=True\n",
    ")\n",
    "print(str(response))"
   ]
  },
  {
   "cell_type": "markdown",
   "id": "8cb8a835",
   "metadata": {},
   "source": [
    "## 2. Define an Auto-Retrieval Tool"
   ]
  },
  {
   "cell_type": "markdown",
   "id": "6589123f",
   "metadata": {},
   "source": [
    "### Load Data"
   ]
  },
  {
   "cell_type": "markdown",
   "id": "bcdea238",
   "metadata": {
    "tags": []
   },
   "source": [
    "To download this paper, below is the needed code:\n",
    "\n",
    "#!wget \"https://arxiv.org/pdf/2405.13063\" -O AURORA A FOUNDATION MODEL OF THE ATMOSPHERE.pdf\n",
    "\n",
    "**Note**: The pdf file is included with this lesson. To access it, go to the `File` menu and select`Open...`."
   ]
  },
  {
   "cell_type": "code",
   "execution_count": 5,
   "id": "fbe9326c-d7b3-452b-ae52-12f000157be4",
   "metadata": {
    "height": 64,
    "tags": []
   },
   "outputs": [],
   "source": [
    "from llama_index.core import SimpleDirectoryReader\n",
    "# load documents\n",
    "documents = SimpleDirectoryReader(input_files=[\"AURORA A FOUNDATION MODEL OF THE ATMOSPHERE.pdf\"]).load_data()"
   ]
  },
  {
   "cell_type": "code",
   "execution_count": 6,
   "id": "5451f0a3-d0a6-4b5c-a337-8e1a343ff5f0",
   "metadata": {
    "height": 64,
    "tags": []
   },
   "outputs": [],
   "source": [
    "from llama_index.core.node_parser import SentenceSplitter\n",
    "splitter = SentenceSplitter(chunk_size=1024)\n",
    "nodes = splitter.get_nodes_from_documents(documents)"
   ]
  },
  {
   "cell_type": "code",
   "execution_count": 7,
   "id": "e0fe0a9c-1f87-4ae7-a79e-7c3cf9c395ed",
   "metadata": {
    "height": 30,
    "tags": []
   },
   "outputs": [
    {
     "name": "stdout",
     "output_type": "stream",
     "text": [
      "page_label: 1\n",
      "file_name: AURORA A FOUNDATION MODEL OF THE ATMOSPHERE.pdf\n",
      "file_path: AURORA A FOUNDATION MODEL OF THE ATMOSPHERE.pdf\n",
      "file_type: application/pdf\n",
      "file_size: 9864973\n",
      "creation_date: 2024-06-08\n",
      "last_modified_date: 2024-06-08\n",
      "\n",
      "AURORA : A F OUNDATION MODEL OF THE ATMOSPHERE\n",
      "Cristian Bodnar*, 1, Wessel P. Bruinsma*, 1, Ana Lucic*, 1, Megan Stanley*, 1,\n",
      "Johannes Brandstetter3,†, Patrick Garvan1, Maik Riechert1, Jonathan Weyn2, Haiyu Dong2,\n",
      "Anna Vaughan4, Jayesh K. Gupta5,†, Kit Tambiratnam2, Alex Archibald4, Elizabeth Heider1,\n",
      "Max Welling6,†, Richard E. Turner1, 4, and Paris Perdikaris1\n",
      "1Microsoft Research AI for Science\n",
      "2Microsoft Corporation3JKU Linz4University of Cambridge5Poly Corporation6University of Amsterdam\n",
      "*Equal contribution†Work done while at Microsoft Research\n",
      "ABSTRACT\n",
      "Deep learning foundation models are revolutionizing many facets of science by leveraging vast\n",
      "amounts of data to learn general-purpose representations that can be adapted to tackle diverse\n",
      "downstream tasks. Foundation models hold the promise to also transform our ability to model our\n",
      "planet and its subsystems by exploiting the vast expanse of Earth system data. Here we introduce\n",
      "Aurora, a large-scale foundation model of the atmosphere trained on over a million hours of diverse\n",
      "weather and climate data. Aurora leverages the strengths of the foundation modelling approach to\n",
      "produce operational forecasts for a wide variety of atmospheric prediction problems, including those\n",
      "with limited training data, heterogeneous variables, and extreme events. In under a minute, Aurora\n",
      "produces 5-day global air pollution predictions and 10-day high-resolution weather forecasts that\n",
      "outperform state-of-the-art classical simulation tools and the best specialized deep learning models.\n",
      "Taken together, these results indicate that foundation models can transform environmental forecasting.\n",
      "1 Introduction\n",
      "Deep learning foundation models have revolutionised various scientific domains, such as protein structure prediction\n",
      "(Abramson et al., 2024), drug discovery (Chithrananda et al., 2020), computer vision (Betker et al., 2023), and natural\n",
      "language processing (OpenAI, 2024). The key tenets of foundation models include pretraining , where a single\n",
      "large-scale neural network learns to capture intricate patterns and structure from a large corpus of diverse data; and\n",
      "fine-tuning , which allows the model to leverage its learned representations to excel at new tasks with limited training\n",
      "data (Bommasani et al., 2021; Brown et al., 2020).\n",
      "The Earth system is a complex and interconnected network of subsystems, such as the atmosphere, oceans, land, and ice,\n",
      "which constantly interact in intricate ways. In a rapidly changing climate, accurate understanding of these subsystems\n",
      "becomes increasingly important. We envision that foundation models can revolutionise our ability to model subsystems\n",
      "of the Earth, and eventually the whole Earth.\n",
      "Amongst the Earth’s subsystems, the atmosphere stands out as particularly data-rich (Reichstein et al., 2019; Bauer\n",
      "et al., 2015) and therefore constitutes ripe ground for pretraining a foundation model. Classical atmospheric simulation\n",
      "approaches, such as numerical weather prediction (NWP), are costly and unable to exploit this wealth of data (Bauer\n",
      "et al., 2015). Recent deep learning approaches are cheaper, more flexible, and have shown great promise in specific\n",
      "prediction tasks with abundant training data (Lam et al., 2023; Bi et al., 2023; Chen et al., 2023a,b; Han et al., 2024;\n",
      "Kochkov et al., 2024; Lessig et al., 2023; Pathak et al., 2022; Bonev et al., 2023; Andrychowicz et al., 2023; Ham et al.,\n",
      "2019; Nguyen et al., 2023a,b). However, these methods struggle when atmospheric training data are scarce (Chantry\n",
      "et al., 2021) or heterogeneous (Reichstein et al., 2019), and they lack robustness in predicting extremes (Charlton-Perez\n",
      "et al., 2024). By learning generalizable representations from vast amounts of diverse data, foundation models have been\n",
      "able to overcome analogous challenges in other domains (Zhai et al., 2022; Radford et al., 2021; Bommasani et al.,\n",
      "2021; Nguyen et al., 2023a).arXiv:2405.13063v2  [physics.ao-ph]  28 May 2024\n"
     ]
    }
   ],
   "source": [
    "print(nodes[0].get_content(metadata_mode=\"all\"))"
   ]
  },
  {
   "cell_type": "code",
   "execution_count": 8,
   "id": "d7965cba-67b8-4cca-8e5f-2b0dbc96f6b0",
   "metadata": {
    "height": 81,
    "tags": []
   },
   "outputs": [],
   "source": [
    "from llama_index.core import VectorStoreIndex\n",
    "\n",
    "vector_index = VectorStoreIndex(nodes)\n",
    "query_engine = vector_index.as_query_engine(similarity_top_k=2)"
   ]
  },
  {
   "cell_type": "code",
   "execution_count": 9,
   "id": "560f319c-8479-40c5-9b55-480fef98deb7",
   "metadata": {
    "height": 251,
    "tags": []
   },
   "outputs": [],
   "source": [
    "from llama_index.core.vector_stores import MetadataFilters\n",
    "\n",
    "query_engine = vector_index.as_query_engine(\n",
    "    similarity_top_k=2,\n",
    "    filters=MetadataFilters.from_dicts(\n",
    "        [\n",
    "            {\"key\": \"page_label\", \"value\": \"2\"}\n",
    "        ]\n",
    "    )\n",
    ")\n",
    "\n",
    "response = query_engine.query(\n",
    "    \"What is the primary difference between Aurora and classical atmospheric simulation approaches?\", \n",
    ")"
   ]
  },
  {
   "cell_type": "code",
   "execution_count": 10,
   "id": "2da4042f-8fdb-4959-8760-86685c903cfd",
   "metadata": {
    "height": 30,
    "tags": []
   },
   "outputs": [
    {
     "name": "stdout",
     "output_type": "stream",
     "text": [
      "Aurora is optimized to minimize a loss on multiple heterogeneous datasets with different resolutions, variables, and pressure levels, and is fine-tuned in two stages using Low Rank Adaptation (LoRA). In contrast, classical atmospheric simulation approaches do not typically involve optimization on multiple heterogeneous datasets or utilize Low Rank Adaptation for fine-tuning.\n"
     ]
    }
   ],
   "source": [
    "print(str(response))"
   ]
  },
  {
   "cell_type": "code",
   "execution_count": 11,
   "id": "30bb264c-42e0-46f8-9d28-da11a8535960",
   "metadata": {
    "height": 47,
    "tags": []
   },
   "outputs": [
    {
     "name": "stdout",
     "output_type": "stream",
     "text": [
      "{'page_label': '2', 'file_name': 'AURORA A FOUNDATION MODEL OF THE ATMOSPHERE.pdf', 'file_path': 'AURORA A FOUNDATION MODEL OF THE ATMOSPHERE.pdf', 'file_type': 'application/pdf', 'file_size': 9864973, 'creation_date': '2024-06-08', 'last_modified_date': '2024-06-08'}\n"
     ]
    }
   ],
   "source": [
    "for n in response.source_nodes:\n",
    "    print(n.metadata)"
   ]
  },
  {
   "cell_type": "markdown",
   "id": "6c392482",
   "metadata": {},
   "source": [
    "### Define the Auto-Retrieval Tool"
   ]
  },
  {
   "cell_type": "code",
   "execution_count": 12,
   "id": "2639e79b-f615-425b-85ea-8a279bb26dd0",
   "metadata": {
    "height": 608,
    "tags": []
   },
   "outputs": [],
   "source": [
    "from typing import List\n",
    "from llama_index.core.vector_stores import FilterCondition\n",
    "\n",
    "\n",
    "def vector_query(\n",
    "    query: str, \n",
    "    page_numbers: List[str]\n",
    ") -> str:\n",
    "    \"\"\"Perform a vector search over an index.\n",
    "    \n",
    "    query (str): the string query to be embedded.\n",
    "    page_numbers (List[str]): Filter by set of pages. Leave BLANK if we want to perform a vector search\n",
    "        over all pages. Otherwise, filter by the set of specified pages.\n",
    "    \n",
    "    \"\"\"\n",
    "\n",
    "    metadata_dicts = [\n",
    "        {\"key\": \"page_label\", \"value\": p} for p in page_numbers\n",
    "    ]\n",
    "    \n",
    "    query_engine = vector_index.as_query_engine(\n",
    "        similarity_top_k=2,\n",
    "        filters=MetadataFilters.from_dicts(\n",
    "            metadata_dicts,\n",
    "            condition=FilterCondition.OR\n",
    "        )\n",
    "    )\n",
    "    response = query_engine.query(query)\n",
    "    return response\n",
    "    \n",
    "\n",
    "vector_query_tool = FunctionTool.from_defaults(\n",
    "    name=\"vector_tool\",\n",
    "    fn=vector_query\n",
    ")"
   ]
  },
  {
   "cell_type": "code",
   "execution_count": 13,
   "id": "2a408ace-cf25-425b-8248-7028ceabcd42",
   "metadata": {
    "height": 115,
    "tags": []
   },
   "outputs": [
    {
     "name": "stdout",
     "output_type": "stream",
     "text": [
      "=== Calling Function ===\n",
      "Calling function: vector_tool with args: {\"query\": \"Aurora adapt to distribution shifts in CAMS data\", \"page_numbers\": [\"5\"]}\n",
      "=== Function Output ===\n",
      "Aurora does not explicitly use emissions data as inputs like CAMS does. Instead, it learns from historical data affected by natural and anthropogenic factors to implicitly account for these effects. It is fine-tuned on CAMS analysis data and also incorporates lower resolution CAMS reanalysis data in the process. This adaptation allows Aurora to perform competitively with CAMS on various targets, demonstrating its ability to handle distribution shifts in the data.\n"
     ]
    }
   ],
   "source": [
    "llm = OpenAI(model=\"gpt-3.5-turbo\", temperature=0)\n",
    "response = llm.predict_and_call(\n",
    "    [vector_query_tool], \n",
    "    \"How does Aurora adapt to distribution shifts in CAMS data, as discussed on page 5?\", \n",
    "    verbose=True\n",
    ")"
   ]
  },
  {
   "cell_type": "code",
   "execution_count": 14,
   "id": "6ec05565-6adf-4294-ba5c-b384220876ac",
   "metadata": {
    "height": 47,
    "tags": []
   },
   "outputs": [
    {
     "name": "stdout",
     "output_type": "stream",
     "text": [
      "{'page_label': '5', 'file_name': 'AURORA A FOUNDATION MODEL OF THE ATMOSPHERE.pdf', 'file_path': 'AURORA A FOUNDATION MODEL OF THE ATMOSPHERE.pdf', 'file_type': 'application/pdf', 'file_size': 9864973, 'creation_date': '2024-06-08', 'last_modified_date': '2024-06-08'}\n",
      "{'page_label': '5', 'file_name': 'AURORA A FOUNDATION MODEL OF THE ATMOSPHERE.pdf', 'file_path': 'AURORA A FOUNDATION MODEL OF THE ATMOSPHERE.pdf', 'file_type': 'application/pdf', 'file_size': 9864973, 'creation_date': '2024-06-08', 'last_modified_date': '2024-06-08'}\n"
     ]
    }
   ],
   "source": [
    "for n in response.source_nodes:\n",
    "    print(n.metadata)"
   ]
  },
  {
   "cell_type": "markdown",
   "id": "fef4dec0",
   "metadata": {},
   "source": [
    "## Let's add some other tools!"
   ]
  },
  {
   "cell_type": "code",
   "execution_count": 15,
   "id": "55dd32e5-e29f-42ed-839a-ca937fe4743e",
   "metadata": {
    "height": 268,
    "tags": []
   },
   "outputs": [],
   "source": [
    "from llama_index.core import SummaryIndex\n",
    "from llama_index.core.tools import QueryEngineTool\n",
    "\n",
    "summary_index = SummaryIndex(nodes)\n",
    "summary_query_engine = summary_index.as_query_engine(\n",
    "    response_mode=\"tree_summarize\",\n",
    "    use_async=True,\n",
    ")\n",
    "summary_tool = QueryEngineTool.from_defaults(\n",
    "    name=\"summary_tool\",\n",
    "    query_engine=summary_query_engine,\n",
    "    description=(\n",
    "        \"Useful if you want to get a summary of AURORA\"\n",
    "    ),\n",
    ")"
   ]
  },
  {
   "cell_type": "code",
   "execution_count": 16,
   "id": "4228ca7c-42a0-494b-987b-5a1c5c584536",
   "metadata": {
    "height": 115,
    "tags": []
   },
   "outputs": [
    {
     "name": "stdout",
     "output_type": "stream",
     "text": [
      "=== Calling Function ===\n",
      "Calling function: summary_tool with args: {\"input\": \"Aurora outperforms state-of-the-art classical simulation tools and specialized deep learning models by leveraging a novel approach that combines the strengths of both classical and deep learning methods. This hybrid approach allows Aurora to achieve superior performance in terms of accuracy, efficiency, and scalability compared to existing tools. Additionally, Aurora's unique architecture enables it to handle complex simulations with high-dimensional data more effectively than traditional simulation tools or specialized deep learning models.\"}\n",
      "=== Function Output ===\n",
      "Aurora's innovative hybrid approach, combining classical simulation tools and specialized deep learning models, allows it to achieve superior performance in accuracy, efficiency, and scalability compared to existing tools. Its unique architecture enables effective handling of complex simulations with high-dimensional data, surpassing the capabilities of traditional simulation tools and specialized deep learning models.\n"
     ]
    }
   ],
   "source": [
    "response = llm.predict_and_call(\n",
    "    [vector_query_tool, summary_tool], \n",
    "    \"How does Aurora outperform state-of-the-art classical simulation tools and specialized deep learning models as described on page 2?\", \n",
    "    verbose=True\n",
    ")"
   ]
  },
  {
   "cell_type": "code",
   "execution_count": 17,
   "id": "4aa3e8c1-a8c3-4c92-a0e4-5c081f91d966",
   "metadata": {
    "height": 47,
    "tags": []
   },
   "outputs": [
    {
     "name": "stdout",
     "output_type": "stream",
     "text": [
      "{'page_label': '1', 'file_name': 'AURORA A FOUNDATION MODEL OF THE ATMOSPHERE.pdf', 'file_path': 'AURORA A FOUNDATION MODEL OF THE ATMOSPHERE.pdf', 'file_type': 'application/pdf', 'file_size': 9864973, 'creation_date': '2024-06-08', 'last_modified_date': '2024-06-08'}\n",
      "{'page_label': '2', 'file_name': 'AURORA A FOUNDATION MODEL OF THE ATMOSPHERE.pdf', 'file_path': 'AURORA A FOUNDATION MODEL OF THE ATMOSPHERE.pdf', 'file_type': 'application/pdf', 'file_size': 9864973, 'creation_date': '2024-06-08', 'last_modified_date': '2024-06-08'}\n",
      "{'page_label': '3', 'file_name': 'AURORA A FOUNDATION MODEL OF THE ATMOSPHERE.pdf', 'file_path': 'AURORA A FOUNDATION MODEL OF THE ATMOSPHERE.pdf', 'file_type': 'application/pdf', 'file_size': 9864973, 'creation_date': '2024-06-08', 'last_modified_date': '2024-06-08'}\n",
      "{'page_label': '3', 'file_name': 'AURORA A FOUNDATION MODEL OF THE ATMOSPHERE.pdf', 'file_path': 'AURORA A FOUNDATION MODEL OF THE ATMOSPHERE.pdf', 'file_type': 'application/pdf', 'file_size': 9864973, 'creation_date': '2024-06-08', 'last_modified_date': '2024-06-08'}\n",
      "{'page_label': '4', 'file_name': 'AURORA A FOUNDATION MODEL OF THE ATMOSPHERE.pdf', 'file_path': 'AURORA A FOUNDATION MODEL OF THE ATMOSPHERE.pdf', 'file_type': 'application/pdf', 'file_size': 9864973, 'creation_date': '2024-06-08', 'last_modified_date': '2024-06-08'}\n",
      "{'page_label': '4', 'file_name': 'AURORA A FOUNDATION MODEL OF THE ATMOSPHERE.pdf', 'file_path': 'AURORA A FOUNDATION MODEL OF THE ATMOSPHERE.pdf', 'file_type': 'application/pdf', 'file_size': 9864973, 'creation_date': '2024-06-08', 'last_modified_date': '2024-06-08'}\n",
      "{'page_label': '5', 'file_name': 'AURORA A FOUNDATION MODEL OF THE ATMOSPHERE.pdf', 'file_path': 'AURORA A FOUNDATION MODEL OF THE ATMOSPHERE.pdf', 'file_type': 'application/pdf', 'file_size': 9864973, 'creation_date': '2024-06-08', 'last_modified_date': '2024-06-08'}\n",
      "{'page_label': '5', 'file_name': 'AURORA A FOUNDATION MODEL OF THE ATMOSPHERE.pdf', 'file_path': 'AURORA A FOUNDATION MODEL OF THE ATMOSPHERE.pdf', 'file_type': 'application/pdf', 'file_size': 9864973, 'creation_date': '2024-06-08', 'last_modified_date': '2024-06-08'}\n",
      "{'page_label': '6', 'file_name': 'AURORA A FOUNDATION MODEL OF THE ATMOSPHERE.pdf', 'file_path': 'AURORA A FOUNDATION MODEL OF THE ATMOSPHERE.pdf', 'file_type': 'application/pdf', 'file_size': 9864973, 'creation_date': '2024-06-08', 'last_modified_date': '2024-06-08'}\n",
      "{'page_label': '7', 'file_name': 'AURORA A FOUNDATION MODEL OF THE ATMOSPHERE.pdf', 'file_path': 'AURORA A FOUNDATION MODEL OF THE ATMOSPHERE.pdf', 'file_type': 'application/pdf', 'file_size': 9864973, 'creation_date': '2024-06-08', 'last_modified_date': '2024-06-08'}\n",
      "{'page_label': '7', 'file_name': 'AURORA A FOUNDATION MODEL OF THE ATMOSPHERE.pdf', 'file_path': 'AURORA A FOUNDATION MODEL OF THE ATMOSPHERE.pdf', 'file_type': 'application/pdf', 'file_size': 9864973, 'creation_date': '2024-06-08', 'last_modified_date': '2024-06-08'}\n",
      "{'page_label': '8', 'file_name': 'AURORA A FOUNDATION MODEL OF THE ATMOSPHERE.pdf', 'file_path': 'AURORA A FOUNDATION MODEL OF THE ATMOSPHERE.pdf', 'file_type': 'application/pdf', 'file_size': 9864973, 'creation_date': '2024-06-08', 'last_modified_date': '2024-06-08'}\n",
      "{'page_label': '8', 'file_name': 'AURORA A FOUNDATION MODEL OF THE ATMOSPHERE.pdf', 'file_path': 'AURORA A FOUNDATION MODEL OF THE ATMOSPHERE.pdf', 'file_type': 'application/pdf', 'file_size': 9864973, 'creation_date': '2024-06-08', 'last_modified_date': '2024-06-08'}\n",
      "{'page_label': '9', 'file_name': 'AURORA A FOUNDATION MODEL OF THE ATMOSPHERE.pdf', 'file_path': 'AURORA A FOUNDATION MODEL OF THE ATMOSPHERE.pdf', 'file_type': 'application/pdf', 'file_size': 9864973, 'creation_date': '2024-06-08', 'last_modified_date': '2024-06-08'}\n",
      "{'page_label': '10', 'file_name': 'AURORA A FOUNDATION MODEL OF THE ATMOSPHERE.pdf', 'file_path': 'AURORA A FOUNDATION MODEL OF THE ATMOSPHERE.pdf', 'file_type': 'application/pdf', 'file_size': 9864973, 'creation_date': '2024-06-08', 'last_modified_date': '2024-06-08'}\n",
      "{'page_label': '10', 'file_name': 'AURORA A FOUNDATION MODEL OF THE ATMOSPHERE.pdf', 'file_path': 'AURORA A FOUNDATION MODEL OF THE ATMOSPHERE.pdf', 'file_type': 'application/pdf', 'file_size': 9864973, 'creation_date': '2024-06-08', 'last_modified_date': '2024-06-08'}\n",
      "{'page_label': '11', 'file_name': 'AURORA A FOUNDATION MODEL OF THE ATMOSPHERE.pdf', 'file_path': 'AURORA A FOUNDATION MODEL OF THE ATMOSPHERE.pdf', 'file_type': 'application/pdf', 'file_size': 9864973, 'creation_date': '2024-06-08', 'last_modified_date': '2024-06-08'}\n",
      "{'page_label': '12', 'file_name': 'AURORA A FOUNDATION MODEL OF THE ATMOSPHERE.pdf', 'file_path': 'AURORA A FOUNDATION MODEL OF THE ATMOSPHERE.pdf', 'file_type': 'application/pdf', 'file_size': 9864973, 'creation_date': '2024-06-08', 'last_modified_date': '2024-06-08'}\n",
      "{'page_label': '12', 'file_name': 'AURORA A FOUNDATION MODEL OF THE ATMOSPHERE.pdf', 'file_path': 'AURORA A FOUNDATION MODEL OF THE ATMOSPHERE.pdf', 'file_type': 'application/pdf', 'file_size': 9864973, 'creation_date': '2024-06-08', 'last_modified_date': '2024-06-08'}\n",
      "{'page_label': '13', 'file_name': 'AURORA A FOUNDATION MODEL OF THE ATMOSPHERE.pdf', 'file_path': 'AURORA A FOUNDATION MODEL OF THE ATMOSPHERE.pdf', 'file_type': 'application/pdf', 'file_size': 9864973, 'creation_date': '2024-06-08', 'last_modified_date': '2024-06-08'}\n",
      "{'page_label': '13', 'file_name': 'AURORA A FOUNDATION MODEL OF THE ATMOSPHERE.pdf', 'file_path': 'AURORA A FOUNDATION MODEL OF THE ATMOSPHERE.pdf', 'file_type': 'application/pdf', 'file_size': 9864973, 'creation_date': '2024-06-08', 'last_modified_date': '2024-06-08'}\n",
      "{'page_label': '14', 'file_name': 'AURORA A FOUNDATION MODEL OF THE ATMOSPHERE.pdf', 'file_path': 'AURORA A FOUNDATION MODEL OF THE ATMOSPHERE.pdf', 'file_type': 'application/pdf', 'file_size': 9864973, 'creation_date': '2024-06-08', 'last_modified_date': '2024-06-08'}\n",
      "{'page_label': '14', 'file_name': 'AURORA A FOUNDATION MODEL OF THE ATMOSPHERE.pdf', 'file_path': 'AURORA A FOUNDATION MODEL OF THE ATMOSPHERE.pdf', 'file_type': 'application/pdf', 'file_size': 9864973, 'creation_date': '2024-06-08', 'last_modified_date': '2024-06-08'}\n",
      "{'page_label': '15', 'file_name': 'AURORA A FOUNDATION MODEL OF THE ATMOSPHERE.pdf', 'file_path': 'AURORA A FOUNDATION MODEL OF THE ATMOSPHERE.pdf', 'file_type': 'application/pdf', 'file_size': 9864973, 'creation_date': '2024-06-08', 'last_modified_date': '2024-06-08'}\n",
      "{'page_label': '15', 'file_name': 'AURORA A FOUNDATION MODEL OF THE ATMOSPHERE.pdf', 'file_path': 'AURORA A FOUNDATION MODEL OF THE ATMOSPHERE.pdf', 'file_type': 'application/pdf', 'file_size': 9864973, 'creation_date': '2024-06-08', 'last_modified_date': '2024-06-08'}\n",
      "{'page_label': '16', 'file_name': 'AURORA A FOUNDATION MODEL OF THE ATMOSPHERE.pdf', 'file_path': 'AURORA A FOUNDATION MODEL OF THE ATMOSPHERE.pdf', 'file_type': 'application/pdf', 'file_size': 9864973, 'creation_date': '2024-06-08', 'last_modified_date': '2024-06-08'}\n",
      "{'page_label': '17', 'file_name': 'AURORA A FOUNDATION MODEL OF THE ATMOSPHERE.pdf', 'file_path': 'AURORA A FOUNDATION MODEL OF THE ATMOSPHERE.pdf', 'file_type': 'application/pdf', 'file_size': 9864973, 'creation_date': '2024-06-08', 'last_modified_date': '2024-06-08'}\n",
      "{'page_label': '17', 'file_name': 'AURORA A FOUNDATION MODEL OF THE ATMOSPHERE.pdf', 'file_path': 'AURORA A FOUNDATION MODEL OF THE ATMOSPHERE.pdf', 'file_type': 'application/pdf', 'file_size': 9864973, 'creation_date': '2024-06-08', 'last_modified_date': '2024-06-08'}\n",
      "{'page_label': '17', 'file_name': 'AURORA A FOUNDATION MODEL OF THE ATMOSPHERE.pdf', 'file_path': 'AURORA A FOUNDATION MODEL OF THE ATMOSPHERE.pdf', 'file_type': 'application/pdf', 'file_size': 9864973, 'creation_date': '2024-06-08', 'last_modified_date': '2024-06-08'}\n",
      "{'page_label': '18', 'file_name': 'AURORA A FOUNDATION MODEL OF THE ATMOSPHERE.pdf', 'file_path': 'AURORA A FOUNDATION MODEL OF THE ATMOSPHERE.pdf', 'file_type': 'application/pdf', 'file_size': 9864973, 'creation_date': '2024-06-08', 'last_modified_date': '2024-06-08'}\n",
      "{'page_label': '19', 'file_name': 'AURORA A FOUNDATION MODEL OF THE ATMOSPHERE.pdf', 'file_path': 'AURORA A FOUNDATION MODEL OF THE ATMOSPHERE.pdf', 'file_type': 'application/pdf', 'file_size': 9864973, 'creation_date': '2024-06-08', 'last_modified_date': '2024-06-08'}\n",
      "{'page_label': '19', 'file_name': 'AURORA A FOUNDATION MODEL OF THE ATMOSPHERE.pdf', 'file_path': 'AURORA A FOUNDATION MODEL OF THE ATMOSPHERE.pdf', 'file_type': 'application/pdf', 'file_size': 9864973, 'creation_date': '2024-06-08', 'last_modified_date': '2024-06-08'}\n",
      "{'page_label': '20', 'file_name': 'AURORA A FOUNDATION MODEL OF THE ATMOSPHERE.pdf', 'file_path': 'AURORA A FOUNDATION MODEL OF THE ATMOSPHERE.pdf', 'file_type': 'application/pdf', 'file_size': 9864973, 'creation_date': '2024-06-08', 'last_modified_date': '2024-06-08'}\n",
      "{'page_label': '21', 'file_name': 'AURORA A FOUNDATION MODEL OF THE ATMOSPHERE.pdf', 'file_path': 'AURORA A FOUNDATION MODEL OF THE ATMOSPHERE.pdf', 'file_type': 'application/pdf', 'file_size': 9864973, 'creation_date': '2024-06-08', 'last_modified_date': '2024-06-08'}\n",
      "{'page_label': '22', 'file_name': 'AURORA A FOUNDATION MODEL OF THE ATMOSPHERE.pdf', 'file_path': 'AURORA A FOUNDATION MODEL OF THE ATMOSPHERE.pdf', 'file_type': 'application/pdf', 'file_size': 9864973, 'creation_date': '2024-06-08', 'last_modified_date': '2024-06-08'}\n",
      "{'page_label': '23', 'file_name': 'AURORA A FOUNDATION MODEL OF THE ATMOSPHERE.pdf', 'file_path': 'AURORA A FOUNDATION MODEL OF THE ATMOSPHERE.pdf', 'file_type': 'application/pdf', 'file_size': 9864973, 'creation_date': '2024-06-08', 'last_modified_date': '2024-06-08'}\n",
      "{'page_label': '23', 'file_name': 'AURORA A FOUNDATION MODEL OF THE ATMOSPHERE.pdf', 'file_path': 'AURORA A FOUNDATION MODEL OF THE ATMOSPHERE.pdf', 'file_type': 'application/pdf', 'file_size': 9864973, 'creation_date': '2024-06-08', 'last_modified_date': '2024-06-08'}\n",
      "{'page_label': '24', 'file_name': 'AURORA A FOUNDATION MODEL OF THE ATMOSPHERE.pdf', 'file_path': 'AURORA A FOUNDATION MODEL OF THE ATMOSPHERE.pdf', 'file_type': 'application/pdf', 'file_size': 9864973, 'creation_date': '2024-06-08', 'last_modified_date': '2024-06-08'}\n",
      "{'page_label': '25', 'file_name': 'AURORA A FOUNDATION MODEL OF THE ATMOSPHERE.pdf', 'file_path': 'AURORA A FOUNDATION MODEL OF THE ATMOSPHERE.pdf', 'file_type': 'application/pdf', 'file_size': 9864973, 'creation_date': '2024-06-08', 'last_modified_date': '2024-06-08'}\n",
      "{'page_label': '26', 'file_name': 'AURORA A FOUNDATION MODEL OF THE ATMOSPHERE.pdf', 'file_path': 'AURORA A FOUNDATION MODEL OF THE ATMOSPHERE.pdf', 'file_type': 'application/pdf', 'file_size': 9864973, 'creation_date': '2024-06-08', 'last_modified_date': '2024-06-08'}\n",
      "{'page_label': '26', 'file_name': 'AURORA A FOUNDATION MODEL OF THE ATMOSPHERE.pdf', 'file_path': 'AURORA A FOUNDATION MODEL OF THE ATMOSPHERE.pdf', 'file_type': 'application/pdf', 'file_size': 9864973, 'creation_date': '2024-06-08', 'last_modified_date': '2024-06-08'}\n",
      "{'page_label': '27', 'file_name': 'AURORA A FOUNDATION MODEL OF THE ATMOSPHERE.pdf', 'file_path': 'AURORA A FOUNDATION MODEL OF THE ATMOSPHERE.pdf', 'file_type': 'application/pdf', 'file_size': 9864973, 'creation_date': '2024-06-08', 'last_modified_date': '2024-06-08'}\n",
      "{'page_label': '27', 'file_name': 'AURORA A FOUNDATION MODEL OF THE ATMOSPHERE.pdf', 'file_path': 'AURORA A FOUNDATION MODEL OF THE ATMOSPHERE.pdf', 'file_type': 'application/pdf', 'file_size': 9864973, 'creation_date': '2024-06-08', 'last_modified_date': '2024-06-08'}\n",
      "{'page_label': '28', 'file_name': 'AURORA A FOUNDATION MODEL OF THE ATMOSPHERE.pdf', 'file_path': 'AURORA A FOUNDATION MODEL OF THE ATMOSPHERE.pdf', 'file_type': 'application/pdf', 'file_size': 9864973, 'creation_date': '2024-06-08', 'last_modified_date': '2024-06-08'}\n",
      "{'page_label': '28', 'file_name': 'AURORA A FOUNDATION MODEL OF THE ATMOSPHERE.pdf', 'file_path': 'AURORA A FOUNDATION MODEL OF THE ATMOSPHERE.pdf', 'file_type': 'application/pdf', 'file_size': 9864973, 'creation_date': '2024-06-08', 'last_modified_date': '2024-06-08'}\n",
      "{'page_label': '29', 'file_name': 'AURORA A FOUNDATION MODEL OF THE ATMOSPHERE.pdf', 'file_path': 'AURORA A FOUNDATION MODEL OF THE ATMOSPHERE.pdf', 'file_type': 'application/pdf', 'file_size': 9864973, 'creation_date': '2024-06-08', 'last_modified_date': '2024-06-08'}\n",
      "{'page_label': '29', 'file_name': 'AURORA A FOUNDATION MODEL OF THE ATMOSPHERE.pdf', 'file_path': 'AURORA A FOUNDATION MODEL OF THE ATMOSPHERE.pdf', 'file_type': 'application/pdf', 'file_size': 9864973, 'creation_date': '2024-06-08', 'last_modified_date': '2024-06-08'}\n",
      "{'page_label': '30', 'file_name': 'AURORA A FOUNDATION MODEL OF THE ATMOSPHERE.pdf', 'file_path': 'AURORA A FOUNDATION MODEL OF THE ATMOSPHERE.pdf', 'file_type': 'application/pdf', 'file_size': 9864973, 'creation_date': '2024-06-08', 'last_modified_date': '2024-06-08'}\n",
      "{'page_label': '30', 'file_name': 'AURORA A FOUNDATION MODEL OF THE ATMOSPHERE.pdf', 'file_path': 'AURORA A FOUNDATION MODEL OF THE ATMOSPHERE.pdf', 'file_type': 'application/pdf', 'file_size': 9864973, 'creation_date': '2024-06-08', 'last_modified_date': '2024-06-08'}\n",
      "{'page_label': '31', 'file_name': 'AURORA A FOUNDATION MODEL OF THE ATMOSPHERE.pdf', 'file_path': 'AURORA A FOUNDATION MODEL OF THE ATMOSPHERE.pdf', 'file_type': 'application/pdf', 'file_size': 9864973, 'creation_date': '2024-06-08', 'last_modified_date': '2024-06-08'}\n",
      "{'page_label': '32', 'file_name': 'AURORA A FOUNDATION MODEL OF THE ATMOSPHERE.pdf', 'file_path': 'AURORA A FOUNDATION MODEL OF THE ATMOSPHERE.pdf', 'file_type': 'application/pdf', 'file_size': 9864973, 'creation_date': '2024-06-08', 'last_modified_date': '2024-06-08'}\n",
      "{'page_label': '33', 'file_name': 'AURORA A FOUNDATION MODEL OF THE ATMOSPHERE.pdf', 'file_path': 'AURORA A FOUNDATION MODEL OF THE ATMOSPHERE.pdf', 'file_type': 'application/pdf', 'file_size': 9864973, 'creation_date': '2024-06-08', 'last_modified_date': '2024-06-08'}\n",
      "{'page_label': '34', 'file_name': 'AURORA A FOUNDATION MODEL OF THE ATMOSPHERE.pdf', 'file_path': 'AURORA A FOUNDATION MODEL OF THE ATMOSPHERE.pdf', 'file_type': 'application/pdf', 'file_size': 9864973, 'creation_date': '2024-06-08', 'last_modified_date': '2024-06-08'}\n",
      "{'page_label': '35', 'file_name': 'AURORA A FOUNDATION MODEL OF THE ATMOSPHERE.pdf', 'file_path': 'AURORA A FOUNDATION MODEL OF THE ATMOSPHERE.pdf', 'file_type': 'application/pdf', 'file_size': 9864973, 'creation_date': '2024-06-08', 'last_modified_date': '2024-06-08'}\n",
      "{'page_label': '36', 'file_name': 'AURORA A FOUNDATION MODEL OF THE ATMOSPHERE.pdf', 'file_path': 'AURORA A FOUNDATION MODEL OF THE ATMOSPHERE.pdf', 'file_type': 'application/pdf', 'file_size': 9864973, 'creation_date': '2024-06-08', 'last_modified_date': '2024-06-08'}\n",
      "{'page_label': '37', 'file_name': 'AURORA A FOUNDATION MODEL OF THE ATMOSPHERE.pdf', 'file_path': 'AURORA A FOUNDATION MODEL OF THE ATMOSPHERE.pdf', 'file_type': 'application/pdf', 'file_size': 9864973, 'creation_date': '2024-06-08', 'last_modified_date': '2024-06-08'}\n",
      "{'page_label': '38', 'file_name': 'AURORA A FOUNDATION MODEL OF THE ATMOSPHERE.pdf', 'file_path': 'AURORA A FOUNDATION MODEL OF THE ATMOSPHERE.pdf', 'file_type': 'application/pdf', 'file_size': 9864973, 'creation_date': '2024-06-08', 'last_modified_date': '2024-06-08'}\n",
      "{'page_label': '39', 'file_name': 'AURORA A FOUNDATION MODEL OF THE ATMOSPHERE.pdf', 'file_path': 'AURORA A FOUNDATION MODEL OF THE ATMOSPHERE.pdf', 'file_type': 'application/pdf', 'file_size': 9864973, 'creation_date': '2024-06-08', 'last_modified_date': '2024-06-08'}\n",
      "{'page_label': '40', 'file_name': 'AURORA A FOUNDATION MODEL OF THE ATMOSPHERE.pdf', 'file_path': 'AURORA A FOUNDATION MODEL OF THE ATMOSPHERE.pdf', 'file_type': 'application/pdf', 'file_size': 9864973, 'creation_date': '2024-06-08', 'last_modified_date': '2024-06-08'}\n",
      "{'page_label': '41', 'file_name': 'AURORA A FOUNDATION MODEL OF THE ATMOSPHERE.pdf', 'file_path': 'AURORA A FOUNDATION MODEL OF THE ATMOSPHERE.pdf', 'file_type': 'application/pdf', 'file_size': 9864973, 'creation_date': '2024-06-08', 'last_modified_date': '2024-06-08'}\n",
      "{'page_label': '42', 'file_name': 'AURORA A FOUNDATION MODEL OF THE ATMOSPHERE.pdf', 'file_path': 'AURORA A FOUNDATION MODEL OF THE ATMOSPHERE.pdf', 'file_type': 'application/pdf', 'file_size': 9864973, 'creation_date': '2024-06-08', 'last_modified_date': '2024-06-08'}\n",
      "{'page_label': '43', 'file_name': 'AURORA A FOUNDATION MODEL OF THE ATMOSPHERE.pdf', 'file_path': 'AURORA A FOUNDATION MODEL OF THE ATMOSPHERE.pdf', 'file_type': 'application/pdf', 'file_size': 9864973, 'creation_date': '2024-06-08', 'last_modified_date': '2024-06-08'}\n",
      "{'page_label': '44', 'file_name': 'AURORA A FOUNDATION MODEL OF THE ATMOSPHERE.pdf', 'file_path': 'AURORA A FOUNDATION MODEL OF THE ATMOSPHERE.pdf', 'file_type': 'application/pdf', 'file_size': 9864973, 'creation_date': '2024-06-08', 'last_modified_date': '2024-06-08'}\n",
      "{'page_label': '45', 'file_name': 'AURORA A FOUNDATION MODEL OF THE ATMOSPHERE.pdf', 'file_path': 'AURORA A FOUNDATION MODEL OF THE ATMOSPHERE.pdf', 'file_type': 'application/pdf', 'file_size': 9864973, 'creation_date': '2024-06-08', 'last_modified_date': '2024-06-08'}\n",
      "{'page_label': '46', 'file_name': 'AURORA A FOUNDATION MODEL OF THE ATMOSPHERE.pdf', 'file_path': 'AURORA A FOUNDATION MODEL OF THE ATMOSPHERE.pdf', 'file_type': 'application/pdf', 'file_size': 9864973, 'creation_date': '2024-06-08', 'last_modified_date': '2024-06-08'}\n",
      "{'page_label': '47', 'file_name': 'AURORA A FOUNDATION MODEL OF THE ATMOSPHERE.pdf', 'file_path': 'AURORA A FOUNDATION MODEL OF THE ATMOSPHERE.pdf', 'file_type': 'application/pdf', 'file_size': 9864973, 'creation_date': '2024-06-08', 'last_modified_date': '2024-06-08'}\n",
      "{'page_label': '48', 'file_name': 'AURORA A FOUNDATION MODEL OF THE ATMOSPHERE.pdf', 'file_path': 'AURORA A FOUNDATION MODEL OF THE ATMOSPHERE.pdf', 'file_type': 'application/pdf', 'file_size': 9864973, 'creation_date': '2024-06-08', 'last_modified_date': '2024-06-08'}\n",
      "{'page_label': '49', 'file_name': 'AURORA A FOUNDATION MODEL OF THE ATMOSPHERE.pdf', 'file_path': 'AURORA A FOUNDATION MODEL OF THE ATMOSPHERE.pdf', 'file_type': 'application/pdf', 'file_size': 9864973, 'creation_date': '2024-06-08', 'last_modified_date': '2024-06-08'}\n",
      "{'page_label': '50', 'file_name': 'AURORA A FOUNDATION MODEL OF THE ATMOSPHERE.pdf', 'file_path': 'AURORA A FOUNDATION MODEL OF THE ATMOSPHERE.pdf', 'file_type': 'application/pdf', 'file_size': 9864973, 'creation_date': '2024-06-08', 'last_modified_date': '2024-06-08'}\n",
      "{'page_label': '51', 'file_name': 'AURORA A FOUNDATION MODEL OF THE ATMOSPHERE.pdf', 'file_path': 'AURORA A FOUNDATION MODEL OF THE ATMOSPHERE.pdf', 'file_type': 'application/pdf', 'file_size': 9864973, 'creation_date': '2024-06-08', 'last_modified_date': '2024-06-08'}\n",
      "{'page_label': '52', 'file_name': 'AURORA A FOUNDATION MODEL OF THE ATMOSPHERE.pdf', 'file_path': 'AURORA A FOUNDATION MODEL OF THE ATMOSPHERE.pdf', 'file_type': 'application/pdf', 'file_size': 9864973, 'creation_date': '2024-06-08', 'last_modified_date': '2024-06-08'}\n"
     ]
    }
   ],
   "source": [
    "for n in response.source_nodes:\n",
    "    print(n.metadata)"
   ]
  },
  {
   "cell_type": "code",
   "execution_count": 18,
   "id": "21906d47-7266-4479-bbb4-9f392d5c399b",
   "metadata": {
    "height": 98,
    "tags": []
   },
   "outputs": [
    {
     "name": "stdout",
     "output_type": "stream",
     "text": [
      "=== Calling Function ===\n",
      "Calling function: summary_tool with args: {\"input\": \"paper\"}\n",
      "=== Function Output ===\n",
      "The paper discussed in the context is focused on the development, implementation, and performance evaluation of the Aurora model, a foundation model of the atmosphere. It highlights Aurora's superiority in atmospheric forecasting compared to traditional simulation tools and specialized deep learning models. The paper emphasizes Aurora's ability to outperform operational CAMS and IFS-HRES models in predicting various atmospheric variables and phenomena, showcasing its competitive forecasting capabilities. Additionally, it mentions Aurora's success in adapting to high-resolution data settings efficiently and capturing extreme weather events accurately.\n"
     ]
    }
   ],
   "source": [
    "response = llm.predict_and_call(\n",
    "    [vector_query_tool, summary_tool], \n",
    "    \"What is a summary of the paper?\", \n",
    "    verbose=True\n",
    ")"
   ]
  },
  {
   "cell_type": "code",
   "execution_count": null,
   "id": "14ec7ff8",
   "metadata": {
    "height": 30
   },
   "outputs": [],
   "source": []
  }
 ],
 "metadata": {
  "kernelspec": {
   "display_name": "Python 3 (ipykernel)",
   "language": "python",
   "name": "python3"
  },
  "language_info": {
   "codemirror_mode": {
    "name": "ipython",
    "version": 3
   },
   "file_extension": ".py",
   "mimetype": "text/x-python",
   "name": "python",
   "nbconvert_exporter": "python",
   "pygments_lexer": "ipython3",
   "version": "3.11.9"
  }
 },
 "nbformat": 4,
 "nbformat_minor": 5
}
